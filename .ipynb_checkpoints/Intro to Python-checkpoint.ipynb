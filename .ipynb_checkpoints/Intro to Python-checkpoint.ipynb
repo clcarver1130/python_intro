{
 "cells": [
  {
   "cell_type": "markdown",
   "metadata": {},
   "source": [
    "# Python Crash Course\n",
    "___\n",
    "\n",
    "\n",
    "** Outline: **\n",
    "1. How is Python different from SQL?\n",
    "2. Python Data Types. (5 min)\n",
    "3. Loops, Logic, and Functions. (10 min)\n",
    "4. Using Python in Data Analysis. (15 min)"
   ]
  },
  {
   "cell_type": "markdown",
   "metadata": {},
   "source": [
    "## 1. How is Python different from SQL?\n",
    "\n",
    "Python is a general purpose programming language ([General-purpose programming language](https://en.m.wikipedia.org/wiki/General-purpose_programming_language)), whereas SQL is a query language ([Query language](https://en.m.wikipedia.org/wiki/Query_language)). \n",
    "\n",
    "Since it is a general purpose language, Python could be used to make and do lots of things. With Python, you could make a video game, a program that helps you do your taxes, or a chatbot.  Recently, it is used to create machine learning models and solve math provlems. However, a programmer can use Python to do anything a computer can do. There are many other general purpose languages that are very popular (C/C++, Ruby, Java, C#, Go etc…). They all have pros and cons, but the the point is they are all able to do anything a computer can.\n",
    "\n",
    "SQL is very different from Python and the other languages. It does one thing: it talks to the database by making queries. These queries are similar to programs, but you don't use them to make video games or make web servers or do complicated math. These queries excel at getting information from databases and SQL is the perfect tool if the end goal of your data is more data or data in a different form. \n",
    "___"
   ]
  },
  {
   "cell_type": "markdown",
   "metadata": {},
   "source": [
    "## 2. Python Data Types\n",
    "\n",
    "#### Creating Variables\n",
    "The first essential features of python (and all computer programming) is the ability to store data values in the program code. This ability is provided by a simple data structure called a 'variable'. A variable is a container in which an item of data can be stored, much like a real-life object can be stored in a box\n",
    "\n",
    "When creating a variable you give it a name of your choice that acts like a label on a box. The stored value can then be retrived using the variable's name. \n",
    "\n",
    "A simple example:"
   ]
  },
  {
   "cell_type": "code",
   "execution_count": null,
   "metadata": {},
   "outputs": [],
   "source": [
    "# Create a variable called 'x' that has the value 2\n",
    "x = 2\n",
    "print(x)"
   ]
  },
  {
   "cell_type": "markdown",
   "metadata": {},
   "source": [
    "You can store many different types of data structures in a variable and here is a short list below. Many are similar to the data types in SQL. How they interact with each other is what gives Python it's power"
   ]
  },
  {
   "cell_type": "markdown",
   "metadata": {},
   "source": [
    "| __type__ | __example__     |\n",
    "|------|----------------------|\n",
    "| int   | 7 |\n",
    "| float | 3.14159 |\n",
    "| str   | 'Riad' |\n",
    "| tuple | (1, 'a') |\n",
    "| list  | [1, 3, 5, 7] |\n",
    "| dict  | {'a' : 1, 'b' : 2} |\n",
    "| set   | {1, 2, 3} |"
   ]
  },
  {
   "cell_type": "markdown",
   "metadata": {},
   "source": [
    "#### Integers and Floats"
   ]
  },
  {
   "cell_type": "code",
   "execution_count": null,
   "metadata": {},
   "outputs": [],
   "source": [
    "a = 4       # <-- creates an 'int' object with the value 4\n",
    "b = 5.1     # <-- creates a 'float' object with the value 5.1\n",
    "print(a)\n",
    "print(b)\n",
    "\n",
    "x = a * b   # <-- Is x an int or a float?\n",
    "print(x)\n",
    "print(type(x))"
   ]
  },
  {
   "cell_type": "markdown",
   "metadata": {},
   "source": [
    "#### Strings"
   ]
  },
  {
   "cell_type": "code",
   "execution_count": null,
   "metadata": {
    "scrolled": true
   },
   "outputs": [],
   "source": [
    "k = 'Karen'\n",
    "v = 'Vipul'\n",
    "a = 'Alex'\n",
    "s = ' ' #<-- the varible 's' is simply a space\n",
    "print(a)\n",
    "print(b)\n",
    "print(c)\n",
    "print(k + s + v + s + a)"
   ]
  },
  {
   "cell_type": "markdown",
   "metadata": {},
   "source": [
    "#### Lists"
   ]
  },
  {
   "cell_type": "code",
   "execution_count": null,
   "metadata": {
    "scrolled": true
   },
   "outputs": [],
   "source": [
    "# This is how you declare a list:\n",
    "my_list = ['A', 'B', 'C', 'D']\n",
    "print(my_list)\n",
    "\n",
    "print(len(my_list)) #<-- Print the length of the list\n",
    "\n",
    "# BTW, you can access the parts of a list using array indexing:\n",
    "print(my_list[0])\n",
    "print(my_list[1])\n",
    "print(my_list[2])\n",
    "\n",
    "my_list.append('E') #<-- Add a value to the list\n",
    "print(my_list)"
   ]
  },
  {
   "cell_type": "markdown",
   "metadata": {},
   "source": [
    "### Pro Tip: Python is 'Dynamically Typed' so be careful how you name your variables!"
   ]
  },
  {
   "cell_type": "code",
   "execution_count": null,
   "metadata": {
    "scrolled": true
   },
   "outputs": [],
   "source": [
    "x = 1\n",
    "print(x)\n",
    "print(type(x))\n",
    "\n",
    "x = 'abc'\n",
    "print(x)\n",
    "print(type(x))"
   ]
  },
  {
   "cell_type": "code",
   "execution_count": null,
   "metadata": {},
   "outputs": [],
   "source": [
    "# This will throw an error\n",
    "x + 3"
   ]
  },
  {
   "cell_type": "markdown",
   "metadata": {},
   "source": [
    "## 3. Loops, Logic, and Functions"
   ]
  },
  {
   "cell_type": "markdown",
   "metadata": {},
   "source": [
    "#### Loops\n",
    "\n",
    "Using 'for' and 'in'"
   ]
  },
  {
   "cell_type": "code",
   "execution_count": null,
   "metadata": {},
   "outputs": [],
   "source": [
    "my_list = [4, 8, 3.14]\n",
    "for item in my_list:\n",
    "    print(item) #<-- All code to be executed in the loop needs to indented"
   ]
  },
  {
   "cell_type": "code",
   "execution_count": null,
   "metadata": {},
   "outputs": [],
   "source": [
    "new_squared_list = []\n",
    "for item in my_list:\n",
    "    new_squared_list.append(item*item)\n",
    "\n",
    "print(my_list)\n",
    "print(new_squared_list)"
   ]
  },
  {
   "cell_type": "markdown",
   "metadata": {},
   "source": [
    "#### Logic\n",
    "\n",
    "Using 'if', 'elif', and 'else'"
   ]
  },
  {
   "cell_type": "code",
   "execution_count": null,
   "metadata": {
    "scrolled": false
   },
   "outputs": [],
   "source": [
    "num = 8\n",
    "if num > 5:\n",
    "    print('Number is greater than 5')\n",
    "elif num < 5:\n",
    "    print('Number is less than 5')\n",
    "else:\n",
    "    print ('Number is 5')"
   ]
  },
  {
   "cell_type": "markdown",
   "metadata": {},
   "source": [
    "#### Functions\n",
    "\n",
    "A function is a reusable bit of code."
   ]
  },
  {
   "cell_type": "code",
   "execution_count": null,
   "metadata": {
    "scrolled": true
   },
   "outputs": [],
   "source": [
    "# WITHOUT using a function:\n",
    "\n",
    "result1 = ('Ducks', 4, 5, 8)\n",
    "print ('-' * 50)\n",
    "print (\"Team\", result1[0])\n",
    "print (\"#wins:\", result1[1])\n",
    "print (\"#losses:\", result1[2])\n",
    "print (\"#ties:\", result1[3])\n",
    "print ('-' * 50 + '\\n')\n",
    "\n",
    "result2 = ('Bears', 9, 1, 7)\n",
    "print ('-' * 50)\n",
    "print (\"Team\", result2[0])\n",
    "print (\"#wins:\", result2[1])\n",
    "print (\"#losses:\", result2[2])\n",
    "print (\"#ties:\", result2[3])\n",
    "print ('-' * 50 + '\\n')\n",
    "\n",
    "result3 = ('Bulls', 1, 13, 3)\n",
    "print ('-' * 50)\n",
    "print (\"Team\", result3[0])\n",
    "print (\"#wins:\", result3[1])\n",
    "print (\"#losses:\", result3[2])\n",
    "print (\"#ties:\", result3[3])\n",
    "print ('-' * 50 + '\\n')"
   ]
  },
  {
   "cell_type": "code",
   "execution_count": null,
   "metadata": {},
   "outputs": [],
   "source": [
    "# WITH using a function:\n",
    "\n",
    "def print_score_summary(result):\n",
    "    print ('-' * 50)\n",
    "    print (\"Team\", result[0])\n",
    "    print (\"#wins:\", result[1])\n",
    "    print (\"#losses:\", result[2])\n",
    "    print (\"#ties:\", result[3])\n",
    "    print ('-' * 50 + '\\n')\n",
    "\n",
    "result1 = ('Ducks', 4, 5, 8)\n",
    "print_score_summary(result1)\n",
    "\n",
    "result2 = ('Bears', 9, 1, 7)\n",
    "print_score_summary(result2)\n",
    "\n",
    "result3 = ('Bulls', 1, 13, 3)\n",
    "print_score_summary(result3)"
   ]
  },
  {
   "cell_type": "code",
   "execution_count": null,
   "metadata": {},
   "outputs": [],
   "source": [
    "# Build a function that sums all the values in a list:\n",
    "def sum_list(lst):\n",
    "    total = 0\n",
    "    for num in lst:\n",
    "        total += num #<-- '+=' just means that 'total' is now equal to 'total + num'\n",
    "    return total\n",
    "\n",
    "print(sum_list([3, 5, 9])) "
   ]
  },
  {
   "cell_type": "markdown",
   "metadata": {},
   "source": [
    "## 4. Using Python in Data Analysis (Introduction to Python Libraries)"
   ]
  },
  {
   "cell_type": "markdown",
   "metadata": {},
   "source": [
    "What makes python so versitile and powerful is its open source framework and more importantly its **libraries**\n",
    "\n",
    "A Python library is a collection of functions and methods that allows you to perform lots of actions without writing your own code. Libraries can be made by anyone and are used for just about anything you can think of. The most popular and powerful libraries come with Python when you install it through Anaconda. Some of the most popular include:\n",
    "\n",
    "- Numpy (Short for numerical python. Has powerful math functions.)\n",
    "- Matplotlib (Creates graphs, plots, and visualizations)\n",
    "- Pandas (Turns lists and dictionaries into spreadsheet-like objects called 'dataframes')   **Best tool for data analysis**\n",
    "- PyODBC (Lets Python make SQL queries to a database)\n",
    "\n",
    "We'll walk through a quick mini-project using Pandas and PyODBC to give you an example:\n",
    "___\n"
   ]
  },
  {
   "cell_type": "markdown",
   "metadata": {},
   "source": [
    "### Mini-Project\n",
    "\n",
    "Let's say someone asked you to do a quick analysis of some claims. How would you use Python to figure that out?"
   ]
  },
  {
   "cell_type": "code",
   "execution_count": null,
   "metadata": {},
   "outputs": [],
   "source": [
    "# Load libraries\n",
    "import pandas as pd\n",
    "import pyodbc\n",
    "import matplotlib.pyplot as plt"
   ]
  },
  {
   "cell_type": "markdown",
   "metadata": {},
   "source": [
    "#### PyODBC"
   ]
  },
  {
   "cell_type": "code",
   "execution_count": null,
   "metadata": {},
   "outputs": [],
   "source": [
    "# Connect to the ADHOC Server: conn \n",
    "conn = pyodbc.connect('DRIVER={SQL Server};SERVER=NEDMCSSQL043SG1\\Adhoc;DATABASE=Adhoc_SCMGA')\n",
    "\n",
    "# Create a cursor from the connection to make queries to: cursor\n",
    "cursor = conn.cursor()"
   ]
  },
  {
   "cell_type": "code",
   "execution_count": null,
   "metadata": {},
   "outputs": [],
   "source": [
    "# Make a simple query for the first 1000 rows and just a few columns. Output the raw result.\n",
    "query = '''\n",
    "        SELECT TOP 1000 report_date, Eticket_ID, claimtype_new, claimedmanufacturer\n",
    "        FROM ADhoc_SCMGA.PSDS.InsKPI_Claim_Summary \n",
    "        '''\n",
    "cursor.execute(query)\n",
    "rows = cursor.fetchall()\n",
    "for row in rows:\n",
    "    print(row)"
   ]
  },
  {
   "cell_type": "markdown",
   "metadata": {},
   "source": [
    "#### Pandas"
   ]
  },
  {
   "cell_type": "code",
   "execution_count": null,
   "metadata": {},
   "outputs": [],
   "source": [
    "# Now instead, save the result to a pandas dataframe using pandas 'read_sql' function. See how much cleaner it is?\n",
    "query = '''\n",
    "        SELECT TOP 1000 report_date, Eticket_ID, claimtype_new, claimedmanufacturer\n",
    "        FROM ADhoc_SCMGA.PSDS.InsKPI_Claim_Summary \n",
    "        '''\n",
    "df = pd.read_sql(query, conn, parse_dates=True, index_col='report_date')\n",
    "df.head() #<-- '.head()' prints the first five rows of the dataframe"
   ]
  },
  {
   "cell_type": "markdown",
   "metadata": {},
   "source": [
    "Now that you have your data into a pandas dataframe you can manipulate your data in almost unlimited amount of ways."
   ]
  },
  {
   "cell_type": "code",
   "execution_count": null,
   "metadata": {
    "scrolled": true
   },
   "outputs": [],
   "source": [
    "# Take just one column:\n",
    "df['Eticket_ID'].head()"
   ]
  },
  {
   "cell_type": "code",
   "execution_count": null,
   "metadata": {},
   "outputs": [],
   "source": [
    "# Group by claimtype\n",
    "df.groupby('claimtype_new').count()"
   ]
  },
  {
   "cell_type": "code",
   "execution_count": null,
   "metadata": {},
   "outputs": [],
   "source": [
    "# Resample (Note: Can only be done when the index is a date)\n",
    "df.resample('A').count() # <-- Resampled by Year ('A')"
   ]
  },
  {
   "cell_type": "code",
   "execution_count": null,
   "metadata": {},
   "outputs": [],
   "source": [
    "# Build a function in Python and then use it to create a new column in the dataframe\n",
    "\n",
    "def apple_check(row):\n",
    "    if row == 'Apple':\n",
    "        return 'Apple'\n",
    "    else:\n",
    "        return 'Non-Apple'\n",
    "\n",
    "df['Apple?'] =  df['claimedmanufacturer'].apply(apple_check) #<-- Apply applies the function to each row in the dataframe\n",
    "df.head()"
   ]
  },
  {
   "cell_type": "code",
   "execution_count": null,
   "metadata": {},
   "outputs": [],
   "source": [
    "# And now we can use our new column to group the dataframe\n",
    "df.groupby('Apple?').count()"
   ]
  },
  {
   "cell_type": "markdown",
   "metadata": {},
   "source": [
    "#### Pandas Plotting"
   ]
  },
  {
   "cell_type": "markdown",
   "metadata": {},
   "source": [
    "While most complex plotting is done using Matplotlib, Pandas as a .plot function bulit on top of Matplotlib that lets you make easy and simple plots straight from the Dataframe"
   ]
  },
  {
   "cell_type": "code",
   "execution_count": null,
   "metadata": {},
   "outputs": [],
   "source": [
    "df_bymonth = df.resample('M').nunique()['Eticket_ID'] #<-- Resample by Month and take a count of all the unique Eticket_ID's\n",
    "df_bymonth.plot(kind='line')\n",
    "plt.show()"
   ]
  },
  {
   "cell_type": "code",
   "execution_count": null,
   "metadata": {
    "scrolled": true
   },
   "outputs": [],
   "source": [
    "df_byapple = df.groupby('Apple?').count()['Eticket_ID']\n",
    "df_byapple.plot(kind='bar')\n",
    "plt.show()"
   ]
  },
  {
   "cell_type": "code",
   "execution_count": null,
   "metadata": {
    "scrolled": true
   },
   "outputs": [],
   "source": [
    "df_byapple = df.groupby('claimedmanufacturer').count()['Eticket_ID']\n",
    "df_byapple.plot(kind='bar')\n",
    "plt.show()"
   ]
  },
  {
   "cell_type": "markdown",
   "metadata": {},
   "source": [
    "___"
   ]
  },
  {
   "cell_type": "markdown",
   "metadata": {},
   "source": [
    "## Handy Cheat Sheets\n",
    "\n",
    "[Python Cheat Sheet](http://datacamp-community.s3.amazonaws.com/e30fbcd9-f595-4a9f-803d-05ca5bf84612)\n",
    "\n",
    "[Data Wrangling Cheat Sheet](http://datacamp-community.s3.amazonaws.com/9f0f2ae1-8bd8-4302-a67b-e17f3059d9e8)\n",
    "\n",
    "[Pandas Cheat Sheet](https://assets.datacamp.com/blog_assets/PandasPythonForDataScience.pdf)\n"
   ]
  }
 ],
 "metadata": {
  "kernelspec": {
   "display_name": "Python 3",
   "language": "python",
   "name": "python3"
  },
  "language_info": {
   "codemirror_mode": {
    "name": "ipython",
    "version": 3
   },
   "file_extension": ".py",
   "mimetype": "text/x-python",
   "name": "python",
   "nbconvert_exporter": "python",
   "pygments_lexer": "ipython3",
   "version": "3.6.5"
  }
 },
 "nbformat": 4,
 "nbformat_minor": 2
}
